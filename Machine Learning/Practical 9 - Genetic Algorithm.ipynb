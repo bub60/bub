{
 "cells": [
  {
   "cell_type": "markdown",
   "id": "b317ae20",
   "metadata": {},
   "source": [
    "# Genetic Algorithm"
   ]
  },
  {
   "cell_type": "code",
   "execution_count": 64,
   "id": "8a5582c7",
   "metadata": {
    "scrolled": true
   },
   "outputs": [
    {
     "name": "stdout",
     "output_type": "stream",
     "text": [
      "Collecting pygad\n",
      "  Obtaining dependency information for pygad from https://files.pythonhosted.org/packages/f3/55/a3ed3b7aba89bbb078b550f13a5dda18ec8b0e01ac6b656c1a6874151d4f/pygad-3.3.1-py3-none-any.whl.metadata\n",
      "  Downloading pygad-3.3.1-py3-none-any.whl.metadata (19 kB)\n",
      "Requirement already satisfied: cloudpickle in c:\\users\\neel\\anaconda3\\lib\\site-packages (from pygad) (2.2.1)\n",
      "Requirement already satisfied: matplotlib in c:\\users\\neel\\anaconda3\\lib\\site-packages (from pygad) (3.7.1)\n",
      "Requirement already satisfied: numpy in c:\\users\\neel\\anaconda3\\lib\\site-packages (from pygad) (1.24.3)\n",
      "Requirement already satisfied: contourpy>=1.0.1 in c:\\users\\neel\\anaconda3\\lib\\site-packages (from matplotlib->pygad) (1.0.5)\n",
      "Requirement already satisfied: cycler>=0.10 in c:\\users\\neel\\anaconda3\\lib\\site-packages (from matplotlib->pygad) (0.11.0)\n",
      "Requirement already satisfied: fonttools>=4.22.0 in c:\\users\\neel\\anaconda3\\lib\\site-packages (from matplotlib->pygad) (4.25.0)\n",
      "Requirement already satisfied: kiwisolver>=1.0.1 in c:\\users\\neel\\anaconda3\\lib\\site-packages (from matplotlib->pygad) (1.4.4)\n",
      "Requirement already satisfied: packaging>=20.0 in c:\\users\\neel\\anaconda3\\lib\\site-packages (from matplotlib->pygad) (23.0)\n",
      "Requirement already satisfied: pillow>=6.2.0 in c:\\users\\neel\\anaconda3\\lib\\site-packages (from matplotlib->pygad) (9.4.0)\n",
      "Requirement already satisfied: pyparsing>=2.3.1 in c:\\users\\neel\\anaconda3\\lib\\site-packages (from matplotlib->pygad) (3.0.9)\n",
      "Requirement already satisfied: python-dateutil>=2.7 in c:\\users\\neel\\anaconda3\\lib\\site-packages (from matplotlib->pygad) (2.8.2)\n",
      "Requirement already satisfied: six>=1.5 in c:\\users\\neel\\anaconda3\\lib\\site-packages (from python-dateutil>=2.7->matplotlib->pygad) (1.16.0)\n",
      "Downloading pygad-3.3.1-py3-none-any.whl (84 kB)\n",
      "   ---------------------------------------- 0.0/84.1 kB ? eta -:--:--\n",
      "   ---------------------------------------- 84.1/84.1 kB 4.6 MB/s eta 0:00:00\n",
      "Installing collected packages: pygad\n",
      "Successfully installed pygad-3.3.1\n",
      "Note: you may need to restart the kernel to use updated packages.\n"
     ]
    }
   ],
   "source": [
    "pip install pygad"
   ]
  },
  {
   "cell_type": "code",
   "execution_count": 65,
   "id": "4c8f39dc",
   "metadata": {},
   "outputs": [],
   "source": [
    "import pygad \n",
    "import numpy as np\n",
    "x=[4,-2,3.5,5,-11,-4,7]\n",
    "desired_output=44"
   ]
  },
  {
   "cell_type": "code",
   "execution_count": 67,
   "id": "fddda127",
   "metadata": {},
   "outputs": [],
   "source": [
    "def fitness_function(ga_instance,solution,solution_idx):\n",
    "    output=np.sum(solution*x)\n",
    "    fitness=1.0/np.abs(output-desired_output)\n",
    "    return fitness\n"
   ]
  },
  {
   "cell_type": "code",
   "execution_count": 69,
   "id": "2f73640c",
   "metadata": {},
   "outputs": [
    {
     "name": "stderr",
     "output_type": "stream",
     "text": [
      "C:\\Users\\Neel\\anaconda3\\Lib\\site-packages\\pygad\\pygad.py:748: UserWarning: The percentage of genes to mutate (mutation_percent_genes=10) resulted in selecting (0) genes. The number of genes to mutate is set to 1 (mutation_num_genes=1).\n",
      "If you do not want to mutate any gene, please set mutation_type=None.\n",
      "  warnings.warn(f\"The percentage of genes to mutate (mutation_percent_genes={mutation_percent_genes}) resulted in selecting ({mutation_num_genes}) genes. The number of genes to mutate is set to 1 (mutation_num_genes=1).\\nIf you do not want to mutate any gene, please set mutation_type=None.\")\n",
      "C:\\Users\\Neel\\anaconda3\\Lib\\site-packages\\pygad\\pygad.py:1139: UserWarning: The 'delay_after_gen' parameter is deprecated starting from PyGAD 3.3.0. To delay or pause the evolution after each generation, assign a callback function/method to the 'on_generation' parameter to adds some time delay.\n",
      "  warnings.warn(\"The 'delay_after_gen' parameter is deprecated starting from PyGAD 3.3.0. To delay or pause the evolution after each generation, assign a callback function/method to the 'on_generation' parameter to adds some time delay.\")\n"
     ]
    }
   ],
   "source": [
    "ga_instance=pygad.GA(num_generations=50,\n",
    "                     crossover_type=\"single_point\",\n",
    "                     init_range_high=5,\n",
    "                     init_range_low=-2,\n",
    "                     num_genes=len(x),\n",
    "                     fitness_func=fitness_function,\n",
    "                     mutation_type=\"random\",\n",
    "                     mutation_percent_genes=10,\n",
    "                     keep_parents=1,sol_per_pop=8,\n",
    "                     parent_selection_type=\"sss\",\n",
    "                     num_parents_mating=8,)"
   ]
  },
  {
   "cell_type": "code",
   "execution_count": 70,
   "id": "59a344f8",
   "metadata": {},
   "outputs": [],
   "source": [
    "ga_instance.run()"
   ]
  },
  {
   "cell_type": "code",
   "execution_count": 71,
   "id": "38d59224",
   "metadata": {},
   "outputs": [],
   "source": [
    "solution,solution_fitness,solution_idx=ga_instance.best_solution()"
   ]
  },
  {
   "cell_type": "code",
   "execution_count": 72,
   "id": "8dbfc131",
   "metadata": {},
   "outputs": [
    {
     "name": "stdout",
     "output_type": "stream",
     "text": [
      "solution [ 1.93224234  0.36224327  3.24571055  1.80899935 -1.76920888  1.53090347\n",
      "  0.46583515]\n",
      "fitness 125.05677265263185\n",
      "Solution IDX 0\n"
     ]
    }
   ],
   "source": [
    "print(\"solution\",solution)\n",
    "print(\"fitness\",solution_fitness)\n",
    "print(\"Solution IDX\",solution_idx)"
   ]
  }
 ],
 "metadata": {
  "kernelspec": {
   "display_name": "Python 3 (ipykernel)",
   "language": "python",
   "name": "python3"
  },
  "language_info": {
   "codemirror_mode": {
    "name": "ipython",
    "version": 3
   },
   "file_extension": ".py",
   "mimetype": "text/x-python",
   "name": "python",
   "nbconvert_exporter": "python",
   "pygments_lexer": "ipython3",
   "version": "3.11.5"
  }
 },
 "nbformat": 4,
 "nbformat_minor": 5
}
