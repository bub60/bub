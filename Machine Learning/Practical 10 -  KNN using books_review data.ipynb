{
 "cells": [
  {
   "cell_type": "markdown",
   "id": "bd53c1ea",
   "metadata": {},
   "source": [
    "Steps for the practical.\n",
    "1. Load the data that give information about the rating.\n",
    "2. Load the data giving information about books\n",
    "3. Merge the dataset based on common column.\n",
    "4. If the dataset is too big, perform sampling.\n",
    "5. Create pivot table with the item to recommend as index, user-id as column and user ratings\n",
    "as values.\n",
    ". Build ML model by giving appropriate hyper parameters.\n",
    "7. Train the model\n",
    ". Generate recommendations.\n",
    "The model built in the given practical is based on K-nearest neighbor algorithm. It comprises of the\n",
    "following arguments : Number of neighbors, type of algorithm, types of metric and hardware\n",
    "configuration to be used."
   ]
  },
  {
   "cell_type": "code",
   "execution_count": null,
   "id": "8d7c1628",
   "metadata": {},
   "outputs": [],
   "source": [
    "import pandas as pd"
   ]
  },
  {
   "cell_type": "code",
   "execution_count": null,
   "id": "72b07f29",
   "metadata": {},
   "outputs": [],
   "source": [
    "ratings = pd.read_csv(\"books_ratings.csv\",,encoding = \"latin-1\",delimiter = ';')\n",
    "ratings.head()"
   ]
  },
  {
   "cell_type": "code",
   "execution_count": null,
   "id": "5361c855",
   "metadata": {},
   "outputs": [],
   "source": [
    "ratings_books = pd.merge(ratings,books,on='ISBN')"
   ]
  },
  {
   "cell_type": "code",
   "execution_count": null,
   "id": "9284ccd3",
   "metadata": {},
   "outputs": [],
   "source": [
    "ratings.shape"
   ]
  },
  {
   "cell_type": "code",
   "execution_count": null,
   "id": "3c55680d",
   "metadata": {},
   "outputs": [],
   "source": [
    "books.shape"
   ]
  },
  {
   "cell_type": "code",
   "execution_count": null,
   "id": "6c0837cf",
   "metadata": {},
   "outputs": [],
   "source": [
    "ratings_books.shape"
   ]
  },
  {
   "cell_type": "code",
   "execution_count": null,
   "id": "496efbce",
   "metadata": {},
   "outputs": [],
   "source": [
    "ratings_books_sample = ratings_books.sample(frac=.01,random_state=1)\n",
    "ratings_books_sample.shape"
   ]
  },
  {
   "cell_type": "code",
   "execution_count": null,
   "id": "88d2a236",
   "metadata": {},
   "outputs": [],
   "source": [
    "ratings_books_pivot = ratings_books_sample.pivot_table(index = 'Book-Title',columns = 'Use\n",
    "ratings_books_pivot.head()"
   ]
  },
  {
   "cell_type": "code",
   "execution_count": null,
   "id": "87812cee",
   "metadata": {},
   "outputs": [],
   "source": [
    "from sklearn.neighbors import NearestNeighbors"
   ]
  },
  {
   "cell_type": "code",
   "execution_count": null,
   "id": "be6ce14f",
   "metadata": {},
   "outputs": [],
   "source": [
    "model = NearestNeighbors(metric = 'cosine',algorithm='brute',n_neighbors=7,n_jobs=-1)"
   ]
  },
  {
   "cell_type": "code",
   "execution_count": null,
   "id": "efbfc561",
   "metadata": {},
   "outputs": [],
   "source": [
    "model.fit(ratings_books_pivot)"
   ]
  },
  {
   "cell_type": "code",
   "execution_count": null,
   "id": "7a6b07ab",
   "metadata": {},
   "outputs": [],
   "source": [
    "indices = model.kneighbors(ratings_books_pivot.loc[[\"01-01-00: The Novel of the Millennium\n",
    "for index,value in enumerate(ratings_books_pivot.index[indices][0]):\n",
    "    print((index+1),\".\",value)"
   ]
  }
 ],
 "metadata": {
  "kernelspec": {
   "display_name": "Python 3 (ipykernel)",
   "language": "python",
   "name": "python3"
  },
  "language_info": {
   "codemirror_mode": {
    "name": "ipython",
    "version": 3
   },
   "file_extension": ".py",
   "mimetype": "text/x-python",
   "name": "python",
   "nbconvert_exporter": "python",
   "pygments_lexer": "ipython3",
   "version": "3.11.5"
  }
 },
 "nbformat": 4,
 "nbformat_minor": 5
}
