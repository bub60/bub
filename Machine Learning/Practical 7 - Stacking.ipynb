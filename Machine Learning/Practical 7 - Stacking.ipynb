{
 "cells": [
  {
   "cell_type": "code",
   "execution_count": 1,
   "id": "7529a65f",
   "metadata": {},
   "outputs": [],
   "source": [
    "from numpy import mean\n",
    "from sklearn.datasets import make_regression #For making synthetic dataset\n",
    "from sklearn.model_selection import cross_val_score, RepeatedKFold\n",
    "from sklearn.linear_model import LinearRegression\n",
    "from sklearn.neighbors import KNeighborsRegressor\n",
    "from sklearn.tree import DecisionTreeRegressor\n",
    "from sklearn.svm import SVR\n",
    "from sklearn.ensemble import StackingRegressor"
   ]
  },
  {
   "cell_type": "code",
   "execution_count": 2,
   "id": "22f8f148",
   "metadata": {},
   "outputs": [],
   "source": [
    "x,y=make_regression(n_samples=1000,n_features=20,random_state=1)"
   ]
  },
  {
   "cell_type": "code",
   "execution_count": 3,
   "id": "6d5276ac",
   "metadata": {},
   "outputs": [],
   "source": [
    "def get_stacking():\n",
    "    level10=list()\n",
    "    level10.append(('knn',KNeighborsRegressor()))\n",
    "    level10.append(('svm',SVR()))\n",
    "    level1=LinearRegression()\n",
    "    model=StackingRegressor(estimators=level10,final_estimator=level1)\n",
    "    return model"
   ]
  },
  {
   "cell_type": "code",
   "execution_count": 4,
   "id": "ab28d062",
   "metadata": {},
   "outputs": [],
   "source": [
    "def get_models():\n",
    "    models=dict()\n",
    "    models['knn']=KNeighborsRegressor()\n",
    "    models['cart']=DecisionTreeRegressor()\n",
    "    models['svm']=SVR()\n",
    "    models['stacking']=get_stacking()\n",
    "    return models"
   ]
  },
  {
   "cell_type": "code",
   "execution_count": 5,
   "id": "b8388d72",
   "metadata": {},
   "outputs": [],
   "source": [
    "def evaluate_model(model,x,y):\n",
    "    cv=RepeatedKFold(n_splits=10,n_repeats=3,random_state=1)\n",
    "    scores=cross_val_score(model,x,y,scoring='neg_mean_absolute_error',cv=cv)\n",
    "    return scores"
   ]
  },
  {
   "cell_type": "code",
   "execution_count": 6,
   "id": "79e5353c",
   "metadata": {},
   "outputs": [
    {
     "name": "stdout",
     "output_type": "stream",
     "text": [
      "knn -72.38368150286077\n",
      "cart -89.1762587724735\n",
      "svm -113.9538396134627\n",
      "stacking -42.45318240143025\n"
     ]
    }
   ],
   "source": [
    "models = get_models()\n",
    "results,names=list(),list()\n",
    "for name,model in models.items():\n",
    "    scores=evaluate_model(model,x,y)\n",
    "    results.append(scores)\n",
    "    names.append(model)\n",
    "    print(name,mean(scores))"
   ]
  }
 ],
 "metadata": {
  "kernelspec": {
   "display_name": "Python 3 (ipykernel)",
   "language": "python",
   "name": "python3"
  },
  "language_info": {
   "codemirror_mode": {
    "name": "ipython",
    "version": 3
   },
   "file_extension": ".py",
   "mimetype": "text/x-python",
   "name": "python",
   "nbconvert_exporter": "python",
   "pygments_lexer": "ipython3",
   "version": "3.11.5"
  }
 },
 "nbformat": 4,
 "nbformat_minor": 5
}
